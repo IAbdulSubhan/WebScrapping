{
 "cells": [
  {
   "cell_type": "markdown",
   "id": "5dc25e54-c914-4702-bacd-8707d53f2510",
   "metadata": {},
   "source": [
    "# Github.com Login automation\n",
    "\n",
    "* To input text into text field using send keys function\n",
    "* t0 clear field find field then clear()\n",
    "* click on button use of click() \n",
    "\n"
   ]
  },
  {
   "cell_type": "code",
   "execution_count": 2,
   "id": "a7a6e2bd-866a-4b8c-9ace-404a331a966f",
   "metadata": {},
   "outputs": [],
   "source": [
    "import time\n",
    "from selenium import webdriver\n",
    "from selenium.webdriver.common.by import By\n"
   ]
  },
  {
   "cell_type": "code",
   "execution_count": 4,
   "id": "988363da-dae3-4b21-bf6c-450022162dd8",
   "metadata": {},
   "outputs": [],
   "source": [
    "url = 'https://github.com/login'"
   ]
  },
  {
   "cell_type": "code",
   "execution_count": 6,
   "id": "2fe6ac4c-14e3-4809-a6ac-251b0e5658df",
   "metadata": {},
   "outputs": [],
   "source": [
    "driver = webdriver.Chrome()\n",
    "driver.maximize_window()\n",
    "driver.get(url)\n",
    "time.sleep(1)\n",
    "username_field = driver.find_element(By.ID, 'login_field')\n",
    "#to write into fields\n",
    "username_field.send_keys('IAbdulSubhan')\n",
    "\n",
    "password_field = driver.find_element(By.ID, 'password')\n",
    "password_field.send_keys('test123')\n",
    "\n",
    "sign_btn = driver.find_element(By.XPATH, '//*[@id=\"login\"]/div[4]/form/div/input[13]')\n",
    "time.sleep(1)\n",
    "sign_btn.click()\n",
    "time.sleep(3)"
   ]
  },
  {
   "cell_type": "code",
   "execution_count": 7,
   "id": "ecc431d4-57d9-4dcd-b302-568c805c78f3",
   "metadata": {},
   "outputs": [],
   "source": [
    "driver.quit()"
   ]
  },
  {
   "cell_type": "code",
   "execution_count": null,
   "id": "5f6fea78-44b3-4e93-b878-4588f286b08c",
   "metadata": {},
   "outputs": [],
   "source": []
  }
 ],
 "metadata": {
  "kernelspec": {
   "display_name": "Python [conda env:base] *",
   "language": "python",
   "name": "conda-base-py"
  },
  "language_info": {
   "codemirror_mode": {
    "name": "ipython",
    "version": 3
   },
   "file_extension": ".py",
   "mimetype": "text/x-python",
   "name": "python",
   "nbconvert_exporter": "python",
   "pygments_lexer": "ipython3",
   "version": "3.12.7"
  }
 },
 "nbformat": 4,
 "nbformat_minor": 5
}
