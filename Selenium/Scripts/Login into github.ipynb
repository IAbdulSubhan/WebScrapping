{
 "cells": [
  {
   "cell_type": "markdown",
   "id": "5dc25e54-c914-4702-bacd-8707d53f2510",
   "metadata": {},
   "source": [
    "# Github.com Login automation\n",
    "\n",
    "* To input text into text field using send keys function\n",
    "* t0 clear field find field then clear()\n",
    "* click on button use of click() \n",
    "\n"
   ]
  },
  {
   "cell_type": "code",
   "execution_count": 2,
   "id": "a7a6e2bd-866a-4b8c-9ace-404a331a966f",
   "metadata": {},
   "outputs": [],
   "source": [
    "import time\n",
    "from selenium import webdriver\n",
    "from selenium.webdriver.common.by import By\n"
   ]
  },
  {
   "cell_type": "code",
   "execution_count": 4,
   "id": "988363da-dae3-4b21-bf6c-450022162dd8",
   "metadata": {},
   "outputs": [],
   "source": [
    "url = 'https://github.com/login'"
   ]
  },
  {
   "cell_type": "code",
   "execution_count": 64,
   "id": "2fe6ac4c-14e3-4809-a6ac-251b0e5658df",
   "metadata": {},
   "outputs": [],
   "source": [
    "# 🧠 Concepts Covered\n",
    "# 🧩 Element Locating\n",
    "# By ID: driver.find_element(By.ID, \"login_field\")\n",
    "\n",
    "# By XPath: For elements without an id or name.\n",
    "\n",
    "# 🧠 Text Input and Clearing Fields\n",
    "# Text Input: Use .send_keys(\"your_text\") to type into input fields.\n",
    "\n",
    "# Clearing Fields: Use .clear() before sending keys if needed.\n",
    "\n",
    " \n",
    "# field = driver.find_element(By.ID, \"example\")\n",
    "# field.clear()\n",
    "# field.send_keys(\"text here\")\n",
    "# 🧠 Clicking Buttons or Links\n",
    "# Use .click() to simulate button or link clicks.\n",
    "\n",
    " \n",
    "# submit_button = driver.find_element(By.XPATH, \"xpath_here\")\n",
    "# submit_button.click()\n",
    "# 🧠 Form Submission\n",
    "# Clicking a button within a <form> element often triggers a submit.\n",
    "\n",
    "# .submit() is rarely needed; .click() is commonly enough.\n",
    "\n",
    "# 📝 Best Practices\n",
    "# Use descriptive locators like By.ID or By.NAME when possible.\n",
    "\n",
    "# For dynamic sites or sensitive logins, prefer WebDriverWait instead of time.sleep().\n",
    "\n",
    "# Never store real passwords in scripts. Use environment variables or secret managers in secure automation.\n",
    "\n",
    "# 🔚 Ending the Script\n",
    " \n",
    "# driver.quit()\n",
    "# Always close the browser to release system resources.\n",
    "\n",
    "\n",
    "\n",
    "import time\n",
    "from selenium import webdriver\n",
    "from selenium.webdriver.common.by import By\n",
    "\n",
    "driver = webdriver.Chrome()\n",
    "driver.maximize_window()\n",
    "\n",
    "url = 'https://github.com/login'\n",
    "driver.get(url)\n",
    "time.sleep(2)\n",
    "\n",
    "# username field\n",
    "username_field = driver.find_element(By.ID, 'login_field')\n",
    "username_field.send_keys('misbah')\n",
    "time.sleep(1)\n",
    "\n",
    "# password field\n",
    "password_field = driver.find_element(By.ID, 'password')\n",
    "password_field.send_keys('pass123')\n",
    "time.sleep(1)\n",
    "\n",
    "# submit button\n",
    "submit_button = driver.find_element(By.XPATH, '//*[@id=\"login\"]/div[4]/form/div/input[13]')\n",
    "submit_button.click()\n",
    "time.sleep(2)\n",
    "\n",
    "driver.quit()"
   ]
  },
  {
   "cell_type": "code",
   "execution_count": 66,
   "id": "ecc431d4-57d9-4dcd-b302-568c805c78f3",
   "metadata": {},
   "outputs": [],
   "source": [
    "driver.quit()"
   ]
  },
  {
   "cell_type": "code",
   "execution_count": null,
   "id": "5f6fea78-44b3-4e93-b878-4588f286b08c",
   "metadata": {},
   "outputs": [],
   "source": []
  },
  {
   "cell_type": "code",
   "execution_count": null,
   "id": "e53b98f4-0730-48f5-a4f3-ac4d3dbab015",
   "metadata": {},
   "outputs": [],
   "source": []
  },
  {
   "cell_type": "code",
   "execution_count": null,
   "id": "d1bbd6bf-d923-4b17-85d4-69ae862b3107",
   "metadata": {},
   "outputs": [],
   "source": []
  },
  {
   "cell_type": "code",
   "execution_count": null,
   "id": "44d68b81-40af-456e-b4db-c1597890572f",
   "metadata": {},
   "outputs": [],
   "source": []
  },
  {
   "cell_type": "code",
   "execution_count": null,
   "id": "92a0eff3-7e58-4312-b753-dcf057e89cfe",
   "metadata": {},
   "outputs": [],
   "source": []
  },
  {
   "cell_type": "code",
   "execution_count": null,
   "id": "ce44e51f-bf97-43ac-b310-676687890be8",
   "metadata": {},
   "outputs": [],
   "source": []
  }
 ],
 "metadata": {
  "kernelspec": {
   "display_name": "Python [conda env:base] *",
   "language": "python",
   "name": "conda-base-py"
  },
  "language_info": {
   "codemirror_mode": {
    "name": "ipython",
    "version": 3
   },
   "file_extension": ".py",
   "mimetype": "text/x-python",
   "name": "python",
   "nbconvert_exporter": "python",
   "pygments_lexer": "ipython3",
   "version": "3.12.7"
  }
 },
 "nbformat": 4,
 "nbformat_minor": 5
}
